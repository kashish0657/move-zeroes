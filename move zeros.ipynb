{
 "cells": [
  {
   "cell_type": "markdown",
   "id": "7245e227-9539-489d-9419-0739bbc3fd9e",
   "metadata": {},
   "source": [
    "## MOVE ZEROES"
   ]
  },
  {
   "cell_type": "markdown",
   "id": "19fcc969-fa83-4aee-bb34-a3d2917c67be",
   "metadata": {},
   "source": [
    "## ANSWER"
   ]
  },
  {
   "cell_type": "code",
   "execution_count": 1,
   "id": "b95f7c10-d494-4985-aa1c-54bcfd62880f",
   "metadata": {},
   "outputs": [],
   "source": [
    "def moveZeroes(nums):\n",
    "    count = 0  # Number of non-zero elements\n",
    "\n",
    "    # Move all non-zero elements to the front\n",
    "    for i in range(len(nums)):\n",
    "        if nums[i] != 0:\n",
    "            nums[count] = nums[i]\n",
    "            count += 1\n",
    "\n",
    "    # Fill the remaining elements with zeros\n",
    "    while count < len(nums):\n",
    "        nums[count] = 0\n",
    "        count += 1\n",
    "\n",
    "    return nums"
   ]
  },
  {
   "cell_type": "code",
   "execution_count": 2,
   "id": "27b283ed-da85-4229-9134-b9a5d4be0d3f",
   "metadata": {},
   "outputs": [
    {
     "name": "stdout",
     "output_type": "stream",
     "text": [
      "[1, 3, 1, 2, 0, 0]\n"
     ]
    }
   ],
   "source": [
    "nums = [0, 1, 0, 3, 1, 2]\n",
    "result = moveZeroes(nums)\n",
    "print(result)"
   ]
  },
  {
   "cell_type": "code",
   "execution_count": null,
   "id": "db916603-9114-4d75-bfc4-0a9a386acff2",
   "metadata": {},
   "outputs": [],
   "source": []
  }
 ],
 "metadata": {
  "kernelspec": {
   "display_name": "Python 3 (ipykernel)",
   "language": "python",
   "name": "python3"
  },
  "language_info": {
   "codemirror_mode": {
    "name": "ipython",
    "version": 3
   },
   "file_extension": ".py",
   "mimetype": "text/x-python",
   "name": "python",
   "nbconvert_exporter": "python",
   "pygments_lexer": "ipython3",
   "version": "3.10.8"
  }
 },
 "nbformat": 4,
 "nbformat_minor": 5
}
